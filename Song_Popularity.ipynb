{
  "nbformat": 4,
  "nbformat_minor": 0,
  "metadata": {
    "colab": {
      "name": "Song Popularity",
      "provenance": [],
      "collapsed_sections": []
    },
    "kernelspec": {
      "name": "python3",
      "display_name": "Python 3"
    },
    "language_info": {
      "name": "python"
    }
  },
  "cells": [
    {
      "cell_type": "code",
      "execution_count": 109,
      "metadata": {
        "id": "d7LLM2HQLg_O"
      },
      "outputs": [],
      "source": [
        ""
      ]
    },
    {
      "cell_type": "code",
      "source": [
        "import pandas as pd\n",
        "import matplotlib.pyplot as plt\n",
        "import seaborn as sns\n",
        "%matplotlib inline"
      ],
      "metadata": {
        "id": "LUW_SY8PTZaW"
      },
      "execution_count": 110,
      "outputs": []
    },
    {
      "cell_type": "code",
      "source": [
        "sample=pd.read_csv('sample_submission.csv')"
      ],
      "metadata": {
        "id": "1q36QATnTmMa"
      },
      "execution_count": 111,
      "outputs": []
    },
    {
      "cell_type": "code",
      "source": [
        "sample.head()"
      ],
      "metadata": {
        "colab": {
          "base_uri": "https://localhost:8080/",
          "height": 206
        },
        "id": "JM4f2a2fUA2t",
        "outputId": "84edb2ed-bce2-4181-a712-7457781937c0"
      },
      "execution_count": 112,
      "outputs": [
        {
          "output_type": "execute_result",
          "data": {
            "text/html": [
              "\n",
              "  <div id=\"df-dfd02199-621c-49eb-b13e-2fb36a836c81\">\n",
              "    <div class=\"colab-df-container\">\n",
              "      <div>\n",
              "<style scoped>\n",
              "    .dataframe tbody tr th:only-of-type {\n",
              "        vertical-align: middle;\n",
              "    }\n",
              "\n",
              "    .dataframe tbody tr th {\n",
              "        vertical-align: top;\n",
              "    }\n",
              "\n",
              "    .dataframe thead th {\n",
              "        text-align: right;\n",
              "    }\n",
              "</style>\n",
              "<table border=\"1\" class=\"dataframe\">\n",
              "  <thead>\n",
              "    <tr style=\"text-align: right;\">\n",
              "      <th></th>\n",
              "      <th>id</th>\n",
              "      <th>song_popularity</th>\n",
              "    </tr>\n",
              "  </thead>\n",
              "  <tbody>\n",
              "    <tr>\n",
              "      <th>0</th>\n",
              "      <td>0</td>\n",
              "      <td>0</td>\n",
              "    </tr>\n",
              "    <tr>\n",
              "      <th>1</th>\n",
              "      <td>1</td>\n",
              "      <td>0</td>\n",
              "    </tr>\n",
              "    <tr>\n",
              "      <th>2</th>\n",
              "      <td>2</td>\n",
              "      <td>0</td>\n",
              "    </tr>\n",
              "    <tr>\n",
              "      <th>3</th>\n",
              "      <td>3</td>\n",
              "      <td>0</td>\n",
              "    </tr>\n",
              "    <tr>\n",
              "      <th>4</th>\n",
              "      <td>4</td>\n",
              "      <td>0</td>\n",
              "    </tr>\n",
              "  </tbody>\n",
              "</table>\n",
              "</div>\n",
              "      <button class=\"colab-df-convert\" onclick=\"convertToInteractive('df-dfd02199-621c-49eb-b13e-2fb36a836c81')\"\n",
              "              title=\"Convert this dataframe to an interactive table.\"\n",
              "              style=\"display:none;\">\n",
              "        \n",
              "  <svg xmlns=\"http://www.w3.org/2000/svg\" height=\"24px\"viewBox=\"0 0 24 24\"\n",
              "       width=\"24px\">\n",
              "    <path d=\"M0 0h24v24H0V0z\" fill=\"none\"/>\n",
              "    <path d=\"M18.56 5.44l.94 2.06.94-2.06 2.06-.94-2.06-.94-.94-2.06-.94 2.06-2.06.94zm-11 1L8.5 8.5l.94-2.06 2.06-.94-2.06-.94L8.5 2.5l-.94 2.06-2.06.94zm10 10l.94 2.06.94-2.06 2.06-.94-2.06-.94-.94-2.06-.94 2.06-2.06.94z\"/><path d=\"M17.41 7.96l-1.37-1.37c-.4-.4-.92-.59-1.43-.59-.52 0-1.04.2-1.43.59L10.3 9.45l-7.72 7.72c-.78.78-.78 2.05 0 2.83L4 21.41c.39.39.9.59 1.41.59.51 0 1.02-.2 1.41-.59l7.78-7.78 2.81-2.81c.8-.78.8-2.07 0-2.86zM5.41 20L4 18.59l7.72-7.72 1.47 1.35L5.41 20z\"/>\n",
              "  </svg>\n",
              "      </button>\n",
              "      \n",
              "  <style>\n",
              "    .colab-df-container {\n",
              "      display:flex;\n",
              "      flex-wrap:wrap;\n",
              "      gap: 12px;\n",
              "    }\n",
              "\n",
              "    .colab-df-convert {\n",
              "      background-color: #E8F0FE;\n",
              "      border: none;\n",
              "      border-radius: 50%;\n",
              "      cursor: pointer;\n",
              "      display: none;\n",
              "      fill: #1967D2;\n",
              "      height: 32px;\n",
              "      padding: 0 0 0 0;\n",
              "      width: 32px;\n",
              "    }\n",
              "\n",
              "    .colab-df-convert:hover {\n",
              "      background-color: #E2EBFA;\n",
              "      box-shadow: 0px 1px 2px rgba(60, 64, 67, 0.3), 0px 1px 3px 1px rgba(60, 64, 67, 0.15);\n",
              "      fill: #174EA6;\n",
              "    }\n",
              "\n",
              "    [theme=dark] .colab-df-convert {\n",
              "      background-color: #3B4455;\n",
              "      fill: #D2E3FC;\n",
              "    }\n",
              "\n",
              "    [theme=dark] .colab-df-convert:hover {\n",
              "      background-color: #434B5C;\n",
              "      box-shadow: 0px 1px 3px 1px rgba(0, 0, 0, 0.15);\n",
              "      filter: drop-shadow(0px 1px 2px rgba(0, 0, 0, 0.3));\n",
              "      fill: #FFFFFF;\n",
              "    }\n",
              "  </style>\n",
              "\n",
              "      <script>\n",
              "        const buttonEl =\n",
              "          document.querySelector('#df-dfd02199-621c-49eb-b13e-2fb36a836c81 button.colab-df-convert');\n",
              "        buttonEl.style.display =\n",
              "          google.colab.kernel.accessAllowed ? 'block' : 'none';\n",
              "\n",
              "        async function convertToInteractive(key) {\n",
              "          const element = document.querySelector('#df-dfd02199-621c-49eb-b13e-2fb36a836c81');\n",
              "          const dataTable =\n",
              "            await google.colab.kernel.invokeFunction('convertToInteractive',\n",
              "                                                     [key], {});\n",
              "          if (!dataTable) return;\n",
              "\n",
              "          const docLinkHtml = 'Like what you see? Visit the ' +\n",
              "            '<a target=\"_blank\" href=https://colab.research.google.com/notebooks/data_table.ipynb>data table notebook</a>'\n",
              "            + ' to learn more about interactive tables.';\n",
              "          element.innerHTML = '';\n",
              "          dataTable['output_type'] = 'display_data';\n",
              "          await google.colab.output.renderOutput(dataTable, element);\n",
              "          const docLink = document.createElement('div');\n",
              "          docLink.innerHTML = docLinkHtml;\n",
              "          element.appendChild(docLink);\n",
              "        }\n",
              "      </script>\n",
              "    </div>\n",
              "  </div>\n",
              "  "
            ],
            "text/plain": [
              "   id  song_popularity\n",
              "0   0                0\n",
              "1   1                0\n",
              "2   2                0\n",
              "3   3                0\n",
              "4   4                0"
            ]
          },
          "metadata": {},
          "execution_count": 112
        }
      ]
    },
    {
      "cell_type": "code",
      "source": [
        "test=pd.read_csv('taste.csv')"
      ],
      "metadata": {
        "id": "Vt1eh-n_N6B3"
      },
      "execution_count": 113,
      "outputs": []
    },
    {
      "cell_type": "code",
      "source": [
        "test.head()"
      ],
      "metadata": {
        "colab": {
          "base_uri": "https://localhost:8080/",
          "height": 250
        },
        "id": "k0CiVnDIUPrN",
        "outputId": "bd5b6341-5d3d-45aa-aa29-c11343d26f1a"
      },
      "execution_count": 114,
      "outputs": [
        {
          "output_type": "execute_result",
          "data": {
            "text/html": [
              "\n",
              "  <div id=\"df-75e9fa19-9d59-4b4e-8f61-1543d62eeb43\">\n",
              "    <div class=\"colab-df-container\">\n",
              "      <div>\n",
              "<style scoped>\n",
              "    .dataframe tbody tr th:only-of-type {\n",
              "        vertical-align: middle;\n",
              "    }\n",
              "\n",
              "    .dataframe tbody tr th {\n",
              "        vertical-align: top;\n",
              "    }\n",
              "\n",
              "    .dataframe thead th {\n",
              "        text-align: right;\n",
              "    }\n",
              "</style>\n",
              "<table border=\"1\" class=\"dataframe\">\n",
              "  <thead>\n",
              "    <tr style=\"text-align: right;\">\n",
              "      <th></th>\n",
              "      <th>id</th>\n",
              "      <th>song_duration_ms</th>\n",
              "      <th>acousticness</th>\n",
              "      <th>danceability</th>\n",
              "      <th>energy</th>\n",
              "      <th>instrumentalness</th>\n",
              "      <th>key</th>\n",
              "      <th>liveness</th>\n",
              "      <th>loudness</th>\n",
              "      <th>audio_mode</th>\n",
              "      <th>speechiness</th>\n",
              "      <th>tempo</th>\n",
              "      <th>time_signature</th>\n",
              "      <th>audio_valence</th>\n",
              "    </tr>\n",
              "  </thead>\n",
              "  <tbody>\n",
              "    <tr>\n",
              "      <th>0</th>\n",
              "      <td>0</td>\n",
              "      <td>308523.0</td>\n",
              "      <td>0.019845</td>\n",
              "      <td>NaN</td>\n",
              "      <td>0.908939</td>\n",
              "      <td>0.001438</td>\n",
              "      <td>NaN</td>\n",
              "      <td>0.112832</td>\n",
              "      <td>-8.890172</td>\n",
              "      <td>0</td>\n",
              "      <td>0.082714</td>\n",
              "      <td>126.129304</td>\n",
              "      <td>4</td>\n",
              "      <td>0.399620</td>\n",
              "    </tr>\n",
              "    <tr>\n",
              "      <th>1</th>\n",
              "      <td>1</td>\n",
              "      <td>200011.0</td>\n",
              "      <td>0.070119</td>\n",
              "      <td>0.731256</td>\n",
              "      <td>0.444655</td>\n",
              "      <td>0.002020</td>\n",
              "      <td>10.0</td>\n",
              "      <td>0.139040</td>\n",
              "      <td>-6.301214</td>\n",
              "      <td>0</td>\n",
              "      <td>0.061685</td>\n",
              "      <td>86.448149</td>\n",
              "      <td>3</td>\n",
              "      <td>0.499424</td>\n",
              "    </tr>\n",
              "    <tr>\n",
              "      <th>2</th>\n",
              "      <td>2</td>\n",
              "      <td>279758.0</td>\n",
              "      <td>0.810637</td>\n",
              "      <td>0.568858</td>\n",
              "      <td>0.125466</td>\n",
              "      <td>0.898841</td>\n",
              "      <td>0.0</td>\n",
              "      <td>0.226614</td>\n",
              "      <td>-11.542478</td>\n",
              "      <td>0</td>\n",
              "      <td>0.041868</td>\n",
              "      <td>99.544351</td>\n",
              "      <td>3</td>\n",
              "      <td>0.564951</td>\n",
              "    </tr>\n",
              "    <tr>\n",
              "      <th>3</th>\n",
              "      <td>3</td>\n",
              "      <td>249197.0</td>\n",
              "      <td>NaN</td>\n",
              "      <td>0.871789</td>\n",
              "      <td>0.557342</td>\n",
              "      <td>0.000715</td>\n",
              "      <td>4.0</td>\n",
              "      <td>0.325391</td>\n",
              "      <td>-7.905546</td>\n",
              "      <td>1</td>\n",
              "      <td>0.046815</td>\n",
              "      <td>123.063854</td>\n",
              "      <td>4</td>\n",
              "      <td>0.906485</td>\n",
              "    </tr>\n",
              "    <tr>\n",
              "      <th>4</th>\n",
              "      <td>4</td>\n",
              "      <td>NaN</td>\n",
              "      <td>0.765568</td>\n",
              "      <td>0.624687</td>\n",
              "      <td>0.710794</td>\n",
              "      <td>0.000346</td>\n",
              "      <td>8.0</td>\n",
              "      <td>0.308284</td>\n",
              "      <td>NaN</td>\n",
              "      <td>0</td>\n",
              "      <td>0.129284</td>\n",
              "      <td>88.703121</td>\n",
              "      <td>3</td>\n",
              "      <td>0.935571</td>\n",
              "    </tr>\n",
              "  </tbody>\n",
              "</table>\n",
              "</div>\n",
              "      <button class=\"colab-df-convert\" onclick=\"convertToInteractive('df-75e9fa19-9d59-4b4e-8f61-1543d62eeb43')\"\n",
              "              title=\"Convert this dataframe to an interactive table.\"\n",
              "              style=\"display:none;\">\n",
              "        \n",
              "  <svg xmlns=\"http://www.w3.org/2000/svg\" height=\"24px\"viewBox=\"0 0 24 24\"\n",
              "       width=\"24px\">\n",
              "    <path d=\"M0 0h24v24H0V0z\" fill=\"none\"/>\n",
              "    <path d=\"M18.56 5.44l.94 2.06.94-2.06 2.06-.94-2.06-.94-.94-2.06-.94 2.06-2.06.94zm-11 1L8.5 8.5l.94-2.06 2.06-.94-2.06-.94L8.5 2.5l-.94 2.06-2.06.94zm10 10l.94 2.06.94-2.06 2.06-.94-2.06-.94-.94-2.06-.94 2.06-2.06.94z\"/><path d=\"M17.41 7.96l-1.37-1.37c-.4-.4-.92-.59-1.43-.59-.52 0-1.04.2-1.43.59L10.3 9.45l-7.72 7.72c-.78.78-.78 2.05 0 2.83L4 21.41c.39.39.9.59 1.41.59.51 0 1.02-.2 1.41-.59l7.78-7.78 2.81-2.81c.8-.78.8-2.07 0-2.86zM5.41 20L4 18.59l7.72-7.72 1.47 1.35L5.41 20z\"/>\n",
              "  </svg>\n",
              "      </button>\n",
              "      \n",
              "  <style>\n",
              "    .colab-df-container {\n",
              "      display:flex;\n",
              "      flex-wrap:wrap;\n",
              "      gap: 12px;\n",
              "    }\n",
              "\n",
              "    .colab-df-convert {\n",
              "      background-color: #E8F0FE;\n",
              "      border: none;\n",
              "      border-radius: 50%;\n",
              "      cursor: pointer;\n",
              "      display: none;\n",
              "      fill: #1967D2;\n",
              "      height: 32px;\n",
              "      padding: 0 0 0 0;\n",
              "      width: 32px;\n",
              "    }\n",
              "\n",
              "    .colab-df-convert:hover {\n",
              "      background-color: #E2EBFA;\n",
              "      box-shadow: 0px 1px 2px rgba(60, 64, 67, 0.3), 0px 1px 3px 1px rgba(60, 64, 67, 0.15);\n",
              "      fill: #174EA6;\n",
              "    }\n",
              "\n",
              "    [theme=dark] .colab-df-convert {\n",
              "      background-color: #3B4455;\n",
              "      fill: #D2E3FC;\n",
              "    }\n",
              "\n",
              "    [theme=dark] .colab-df-convert:hover {\n",
              "      background-color: #434B5C;\n",
              "      box-shadow: 0px 1px 3px 1px rgba(0, 0, 0, 0.15);\n",
              "      filter: drop-shadow(0px 1px 2px rgba(0, 0, 0, 0.3));\n",
              "      fill: #FFFFFF;\n",
              "    }\n",
              "  </style>\n",
              "\n",
              "      <script>\n",
              "        const buttonEl =\n",
              "          document.querySelector('#df-75e9fa19-9d59-4b4e-8f61-1543d62eeb43 button.colab-df-convert');\n",
              "        buttonEl.style.display =\n",
              "          google.colab.kernel.accessAllowed ? 'block' : 'none';\n",
              "\n",
              "        async function convertToInteractive(key) {\n",
              "          const element = document.querySelector('#df-75e9fa19-9d59-4b4e-8f61-1543d62eeb43');\n",
              "          const dataTable =\n",
              "            await google.colab.kernel.invokeFunction('convertToInteractive',\n",
              "                                                     [key], {});\n",
              "          if (!dataTable) return;\n",
              "\n",
              "          const docLinkHtml = 'Like what you see? Visit the ' +\n",
              "            '<a target=\"_blank\" href=https://colab.research.google.com/notebooks/data_table.ipynb>data table notebook</a>'\n",
              "            + ' to learn more about interactive tables.';\n",
              "          element.innerHTML = '';\n",
              "          dataTable['output_type'] = 'display_data';\n",
              "          await google.colab.output.renderOutput(dataTable, element);\n",
              "          const docLink = document.createElement('div');\n",
              "          docLink.innerHTML = docLinkHtml;\n",
              "          element.appendChild(docLink);\n",
              "        }\n",
              "      </script>\n",
              "    </div>\n",
              "  </div>\n",
              "  "
            ],
            "text/plain": [
              "   id  song_duration_ms  ...  time_signature  audio_valence\n",
              "0   0          308523.0  ...               4       0.399620\n",
              "1   1          200011.0  ...               3       0.499424\n",
              "2   2          279758.0  ...               3       0.564951\n",
              "3   3          249197.0  ...               4       0.906485\n",
              "4   4               NaN  ...               3       0.935571\n",
              "\n",
              "[5 rows x 14 columns]"
            ]
          },
          "metadata": {},
          "execution_count": 114
        }
      ]
    },
    {
      "cell_type": "code",
      "source": [
        "train=pd.read_csv('trace.csv')"
      ],
      "metadata": {
        "id": "w1Jdb0ZdUR31"
      },
      "execution_count": 115,
      "outputs": []
    },
    {
      "cell_type": "code",
      "source": [
        "train.head()"
      ],
      "metadata": {
        "colab": {
          "base_uri": "https://localhost:8080/",
          "height": 270
        },
        "id": "uROD3kk4Uddj",
        "outputId": "19ee2eb5-d20a-408b-fc59-ebe1a0d612e0"
      },
      "execution_count": 116,
      "outputs": [
        {
          "output_type": "execute_result",
          "data": {
            "text/html": [
              "\n",
              "  <div id=\"df-d39c88ea-a7bc-4470-8db8-b49354b1f421\">\n",
              "    <div class=\"colab-df-container\">\n",
              "      <div>\n",
              "<style scoped>\n",
              "    .dataframe tbody tr th:only-of-type {\n",
              "        vertical-align: middle;\n",
              "    }\n",
              "\n",
              "    .dataframe tbody tr th {\n",
              "        vertical-align: top;\n",
              "    }\n",
              "\n",
              "    .dataframe thead th {\n",
              "        text-align: right;\n",
              "    }\n",
              "</style>\n",
              "<table border=\"1\" class=\"dataframe\">\n",
              "  <thead>\n",
              "    <tr style=\"text-align: right;\">\n",
              "      <th></th>\n",
              "      <th>id</th>\n",
              "      <th>song_duration_ms</th>\n",
              "      <th>acousticness</th>\n",
              "      <th>danceability</th>\n",
              "      <th>energy</th>\n",
              "      <th>instrumentalness</th>\n",
              "      <th>key</th>\n",
              "      <th>liveness</th>\n",
              "      <th>loudness</th>\n",
              "      <th>audio_mode</th>\n",
              "      <th>speechiness</th>\n",
              "      <th>tempo</th>\n",
              "      <th>time_signature</th>\n",
              "      <th>audio_valence</th>\n",
              "      <th>song_popularity</th>\n",
              "    </tr>\n",
              "  </thead>\n",
              "  <tbody>\n",
              "    <tr>\n",
              "      <th>0</th>\n",
              "      <td>0</td>\n",
              "      <td>212990.0</td>\n",
              "      <td>0.642286</td>\n",
              "      <td>0.856520</td>\n",
              "      <td>0.707073</td>\n",
              "      <td>0.002001</td>\n",
              "      <td>10.0</td>\n",
              "      <td>NaN</td>\n",
              "      <td>-5.619088</td>\n",
              "      <td>0</td>\n",
              "      <td>0.082570</td>\n",
              "      <td>158.386236</td>\n",
              "      <td>4</td>\n",
              "      <td>0.734642</td>\n",
              "      <td>0</td>\n",
              "    </tr>\n",
              "    <tr>\n",
              "      <th>1</th>\n",
              "      <td>1</td>\n",
              "      <td>NaN</td>\n",
              "      <td>0.054866</td>\n",
              "      <td>0.733289</td>\n",
              "      <td>0.835545</td>\n",
              "      <td>0.000996</td>\n",
              "      <td>8.0</td>\n",
              "      <td>0.436428</td>\n",
              "      <td>-5.236965</td>\n",
              "      <td>1</td>\n",
              "      <td>0.127358</td>\n",
              "      <td>102.752988</td>\n",
              "      <td>3</td>\n",
              "      <td>0.711531</td>\n",
              "      <td>1</td>\n",
              "    </tr>\n",
              "    <tr>\n",
              "      <th>2</th>\n",
              "      <td>2</td>\n",
              "      <td>193213.0</td>\n",
              "      <td>NaN</td>\n",
              "      <td>0.188387</td>\n",
              "      <td>0.783524</td>\n",
              "      <td>-0.002694</td>\n",
              "      <td>5.0</td>\n",
              "      <td>0.170499</td>\n",
              "      <td>-4.951759</td>\n",
              "      <td>0</td>\n",
              "      <td>0.052282</td>\n",
              "      <td>178.685791</td>\n",
              "      <td>3</td>\n",
              "      <td>0.425536</td>\n",
              "      <td>0</td>\n",
              "    </tr>\n",
              "    <tr>\n",
              "      <th>3</th>\n",
              "      <td>3</td>\n",
              "      <td>249893.0</td>\n",
              "      <td>0.488660</td>\n",
              "      <td>0.585234</td>\n",
              "      <td>0.552685</td>\n",
              "      <td>0.000608</td>\n",
              "      <td>0.0</td>\n",
              "      <td>0.094805</td>\n",
              "      <td>-7.893694</td>\n",
              "      <td>0</td>\n",
              "      <td>0.035618</td>\n",
              "      <td>128.715630</td>\n",
              "      <td>3</td>\n",
              "      <td>0.453597</td>\n",
              "      <td>0</td>\n",
              "    </tr>\n",
              "    <tr>\n",
              "      <th>4</th>\n",
              "      <td>4</td>\n",
              "      <td>165969.0</td>\n",
              "      <td>0.493017</td>\n",
              "      <td>NaN</td>\n",
              "      <td>0.740982</td>\n",
              "      <td>0.002033</td>\n",
              "      <td>10.0</td>\n",
              "      <td>0.094891</td>\n",
              "      <td>-2.684095</td>\n",
              "      <td>0</td>\n",
              "      <td>0.050746</td>\n",
              "      <td>121.928157</td>\n",
              "      <td>4</td>\n",
              "      <td>0.741311</td>\n",
              "      <td>0</td>\n",
              "    </tr>\n",
              "  </tbody>\n",
              "</table>\n",
              "</div>\n",
              "      <button class=\"colab-df-convert\" onclick=\"convertToInteractive('df-d39c88ea-a7bc-4470-8db8-b49354b1f421')\"\n",
              "              title=\"Convert this dataframe to an interactive table.\"\n",
              "              style=\"display:none;\">\n",
              "        \n",
              "  <svg xmlns=\"http://www.w3.org/2000/svg\" height=\"24px\"viewBox=\"0 0 24 24\"\n",
              "       width=\"24px\">\n",
              "    <path d=\"M0 0h24v24H0V0z\" fill=\"none\"/>\n",
              "    <path d=\"M18.56 5.44l.94 2.06.94-2.06 2.06-.94-2.06-.94-.94-2.06-.94 2.06-2.06.94zm-11 1L8.5 8.5l.94-2.06 2.06-.94-2.06-.94L8.5 2.5l-.94 2.06-2.06.94zm10 10l.94 2.06.94-2.06 2.06-.94-2.06-.94-.94-2.06-.94 2.06-2.06.94z\"/><path d=\"M17.41 7.96l-1.37-1.37c-.4-.4-.92-.59-1.43-.59-.52 0-1.04.2-1.43.59L10.3 9.45l-7.72 7.72c-.78.78-.78 2.05 0 2.83L4 21.41c.39.39.9.59 1.41.59.51 0 1.02-.2 1.41-.59l7.78-7.78 2.81-2.81c.8-.78.8-2.07 0-2.86zM5.41 20L4 18.59l7.72-7.72 1.47 1.35L5.41 20z\"/>\n",
              "  </svg>\n",
              "      </button>\n",
              "      \n",
              "  <style>\n",
              "    .colab-df-container {\n",
              "      display:flex;\n",
              "      flex-wrap:wrap;\n",
              "      gap: 12px;\n",
              "    }\n",
              "\n",
              "    .colab-df-convert {\n",
              "      background-color: #E8F0FE;\n",
              "      border: none;\n",
              "      border-radius: 50%;\n",
              "      cursor: pointer;\n",
              "      display: none;\n",
              "      fill: #1967D2;\n",
              "      height: 32px;\n",
              "      padding: 0 0 0 0;\n",
              "      width: 32px;\n",
              "    }\n",
              "\n",
              "    .colab-df-convert:hover {\n",
              "      background-color: #E2EBFA;\n",
              "      box-shadow: 0px 1px 2px rgba(60, 64, 67, 0.3), 0px 1px 3px 1px rgba(60, 64, 67, 0.15);\n",
              "      fill: #174EA6;\n",
              "    }\n",
              "\n",
              "    [theme=dark] .colab-df-convert {\n",
              "      background-color: #3B4455;\n",
              "      fill: #D2E3FC;\n",
              "    }\n",
              "\n",
              "    [theme=dark] .colab-df-convert:hover {\n",
              "      background-color: #434B5C;\n",
              "      box-shadow: 0px 1px 3px 1px rgba(0, 0, 0, 0.15);\n",
              "      filter: drop-shadow(0px 1px 2px rgba(0, 0, 0, 0.3));\n",
              "      fill: #FFFFFF;\n",
              "    }\n",
              "  </style>\n",
              "\n",
              "      <script>\n",
              "        const buttonEl =\n",
              "          document.querySelector('#df-d39c88ea-a7bc-4470-8db8-b49354b1f421 button.colab-df-convert');\n",
              "        buttonEl.style.display =\n",
              "          google.colab.kernel.accessAllowed ? 'block' : 'none';\n",
              "\n",
              "        async function convertToInteractive(key) {\n",
              "          const element = document.querySelector('#df-d39c88ea-a7bc-4470-8db8-b49354b1f421');\n",
              "          const dataTable =\n",
              "            await google.colab.kernel.invokeFunction('convertToInteractive',\n",
              "                                                     [key], {});\n",
              "          if (!dataTable) return;\n",
              "\n",
              "          const docLinkHtml = 'Like what you see? Visit the ' +\n",
              "            '<a target=\"_blank\" href=https://colab.research.google.com/notebooks/data_table.ipynb>data table notebook</a>'\n",
              "            + ' to learn more about interactive tables.';\n",
              "          element.innerHTML = '';\n",
              "          dataTable['output_type'] = 'display_data';\n",
              "          await google.colab.output.renderOutput(dataTable, element);\n",
              "          const docLink = document.createElement('div');\n",
              "          docLink.innerHTML = docLinkHtml;\n",
              "          element.appendChild(docLink);\n",
              "        }\n",
              "      </script>\n",
              "    </div>\n",
              "  </div>\n",
              "  "
            ],
            "text/plain": [
              "   id  song_duration_ms  ...  audio_valence  song_popularity\n",
              "0   0          212990.0  ...       0.734642                0\n",
              "1   1               NaN  ...       0.711531                1\n",
              "2   2          193213.0  ...       0.425536                0\n",
              "3   3          249893.0  ...       0.453597                0\n",
              "4   4          165969.0  ...       0.741311                0\n",
              "\n",
              "[5 rows x 15 columns]"
            ]
          },
          "metadata": {},
          "execution_count": 116
        }
      ]
    },
    {
      "cell_type": "code",
      "source": [
        "train.info()"
      ],
      "metadata": {
        "colab": {
          "base_uri": "https://localhost:8080/"
        },
        "id": "ezad4IKmUgKq",
        "outputId": "174e5fc4-7ea9-4f56-8f45-07eabea10678"
      },
      "execution_count": 117,
      "outputs": [
        {
          "output_type": "stream",
          "name": "stdout",
          "text": [
            "<class 'pandas.core.frame.DataFrame'>\n",
            "RangeIndex: 40000 entries, 0 to 39999\n",
            "Data columns (total 15 columns):\n",
            " #   Column            Non-Null Count  Dtype  \n",
            "---  ------            --------------  -----  \n",
            " 0   id                40000 non-null  int64  \n",
            " 1   song_duration_ms  35899 non-null  float64\n",
            " 2   acousticness      36008 non-null  float64\n",
            " 3   danceability      35974 non-null  float64\n",
            " 4   energy            36025 non-null  float64\n",
            " 5   instrumentalness  36015 non-null  float64\n",
            " 6   key               35935 non-null  float64\n",
            " 7   liveness          35914 non-null  float64\n",
            " 8   loudness          36043 non-null  float64\n",
            " 9   audio_mode        40000 non-null  int64  \n",
            " 10  speechiness       40000 non-null  float64\n",
            " 11  tempo             40000 non-null  float64\n",
            " 12  time_signature    40000 non-null  int64  \n",
            " 13  audio_valence     40000 non-null  float64\n",
            " 14  song_popularity   40000 non-null  int64  \n",
            "dtypes: float64(11), int64(4)\n",
            "memory usage: 4.6 MB\n"
          ]
        }
      ]
    },
    {
      "cell_type": "code",
      "source": [
        "train.describe()"
      ],
      "metadata": {
        "colab": {
          "base_uri": "https://localhost:8080/",
          "height": 364
        },
        "id": "HGHkzi3LUoiG",
        "outputId": "64ec4848-cb39-4e41-b92f-3784bef8d558"
      },
      "execution_count": 118,
      "outputs": [
        {
          "output_type": "execute_result",
          "data": {
            "text/html": [
              "\n",
              "  <div id=\"df-d5053dda-57c1-41d4-95ce-afc7a48489d2\">\n",
              "    <div class=\"colab-df-container\">\n",
              "      <div>\n",
              "<style scoped>\n",
              "    .dataframe tbody tr th:only-of-type {\n",
              "        vertical-align: middle;\n",
              "    }\n",
              "\n",
              "    .dataframe tbody tr th {\n",
              "        vertical-align: top;\n",
              "    }\n",
              "\n",
              "    .dataframe thead th {\n",
              "        text-align: right;\n",
              "    }\n",
              "</style>\n",
              "<table border=\"1\" class=\"dataframe\">\n",
              "  <thead>\n",
              "    <tr style=\"text-align: right;\">\n",
              "      <th></th>\n",
              "      <th>id</th>\n",
              "      <th>song_duration_ms</th>\n",
              "      <th>acousticness</th>\n",
              "      <th>danceability</th>\n",
              "      <th>energy</th>\n",
              "      <th>instrumentalness</th>\n",
              "      <th>key</th>\n",
              "      <th>liveness</th>\n",
              "      <th>loudness</th>\n",
              "      <th>audio_mode</th>\n",
              "      <th>speechiness</th>\n",
              "      <th>tempo</th>\n",
              "      <th>time_signature</th>\n",
              "      <th>audio_valence</th>\n",
              "      <th>song_popularity</th>\n",
              "    </tr>\n",
              "  </thead>\n",
              "  <tbody>\n",
              "    <tr>\n",
              "      <th>count</th>\n",
              "      <td>40000.00000</td>\n",
              "      <td>35899.000000</td>\n",
              "      <td>36008.000000</td>\n",
              "      <td>35974.000000</td>\n",
              "      <td>36025.000000</td>\n",
              "      <td>36015.000000</td>\n",
              "      <td>35935.000000</td>\n",
              "      <td>35914.000000</td>\n",
              "      <td>36043.000000</td>\n",
              "      <td>40000.000000</td>\n",
              "      <td>40000.000000</td>\n",
              "      <td>40000.000000</td>\n",
              "      <td>40000.000000</td>\n",
              "      <td>40000.000000</td>\n",
              "      <td>40000.000000</td>\n",
              "    </tr>\n",
              "    <tr>\n",
              "      <th>mean</th>\n",
              "      <td>19999.50000</td>\n",
              "      <td>193165.847572</td>\n",
              "      <td>0.276404</td>\n",
              "      <td>0.570951</td>\n",
              "      <td>0.683932</td>\n",
              "      <td>0.036527</td>\n",
              "      <td>5.042605</td>\n",
              "      <td>0.198514</td>\n",
              "      <td>-7.407596</td>\n",
              "      <td>0.321150</td>\n",
              "      <td>0.094107</td>\n",
              "      <td>116.562815</td>\n",
              "      <td>3.394375</td>\n",
              "      <td>0.580645</td>\n",
              "      <td>0.364400</td>\n",
              "    </tr>\n",
              "    <tr>\n",
              "      <th>std</th>\n",
              "      <td>11547.14972</td>\n",
              "      <td>45822.127679</td>\n",
              "      <td>0.297928</td>\n",
              "      <td>0.190010</td>\n",
              "      <td>0.212662</td>\n",
              "      <td>0.150024</td>\n",
              "      <td>3.372728</td>\n",
              "      <td>0.151670</td>\n",
              "      <td>3.877198</td>\n",
              "      <td>0.466924</td>\n",
              "      <td>0.083591</td>\n",
              "      <td>26.167911</td>\n",
              "      <td>0.524405</td>\n",
              "      <td>0.237351</td>\n",
              "      <td>0.481268</td>\n",
              "    </tr>\n",
              "    <tr>\n",
              "      <th>min</th>\n",
              "      <td>0.00000</td>\n",
              "      <td>25658.000000</td>\n",
              "      <td>-0.013551</td>\n",
              "      <td>0.043961</td>\n",
              "      <td>-0.001682</td>\n",
              "      <td>-0.004398</td>\n",
              "      <td>0.000000</td>\n",
              "      <td>0.027843</td>\n",
              "      <td>-32.117911</td>\n",
              "      <td>0.000000</td>\n",
              "      <td>0.015065</td>\n",
              "      <td>62.055779</td>\n",
              "      <td>2.000000</td>\n",
              "      <td>0.013398</td>\n",
              "      <td>0.000000</td>\n",
              "    </tr>\n",
              "    <tr>\n",
              "      <th>25%</th>\n",
              "      <td>9999.75000</td>\n",
              "      <td>166254.500000</td>\n",
              "      <td>0.039618</td>\n",
              "      <td>0.424760</td>\n",
              "      <td>0.539276</td>\n",
              "      <td>0.000941</td>\n",
              "      <td>2.000000</td>\n",
              "      <td>0.111796</td>\n",
              "      <td>-9.578139</td>\n",
              "      <td>0.000000</td>\n",
              "      <td>0.038500</td>\n",
              "      <td>96.995309</td>\n",
              "      <td>3.000000</td>\n",
              "      <td>0.398669</td>\n",
              "      <td>0.000000</td>\n",
              "    </tr>\n",
              "    <tr>\n",
              "      <th>50%</th>\n",
              "      <td>19999.50000</td>\n",
              "      <td>186660.000000</td>\n",
              "      <td>0.140532</td>\n",
              "      <td>0.608234</td>\n",
              "      <td>0.704453</td>\n",
              "      <td>0.001974</td>\n",
              "      <td>5.000000</td>\n",
              "      <td>0.135945</td>\n",
              "      <td>-6.345413</td>\n",
              "      <td>0.000000</td>\n",
              "      <td>0.055881</td>\n",
              "      <td>113.795959</td>\n",
              "      <td>3.000000</td>\n",
              "      <td>0.598827</td>\n",
              "      <td>0.000000</td>\n",
              "    </tr>\n",
              "    <tr>\n",
              "      <th>75%</th>\n",
              "      <td>29999.25000</td>\n",
              "      <td>215116.000000</td>\n",
              "      <td>0.482499</td>\n",
              "      <td>0.718464</td>\n",
              "      <td>0.870503</td>\n",
              "      <td>0.003225</td>\n",
              "      <td>8.000000</td>\n",
              "      <td>0.212842</td>\n",
              "      <td>-4.620711</td>\n",
              "      <td>1.000000</td>\n",
              "      <td>0.118842</td>\n",
              "      <td>128.517383</td>\n",
              "      <td>4.000000</td>\n",
              "      <td>0.759635</td>\n",
              "      <td>1.000000</td>\n",
              "    </tr>\n",
              "    <tr>\n",
              "      <th>max</th>\n",
              "      <td>39999.00000</td>\n",
              "      <td>491671.000000</td>\n",
              "      <td>1.065284</td>\n",
              "      <td>0.957131</td>\n",
              "      <td>1.039741</td>\n",
              "      <td>1.075415</td>\n",
              "      <td>11.000000</td>\n",
              "      <td>1.065298</td>\n",
              "      <td>-0.877346</td>\n",
              "      <td>1.000000</td>\n",
              "      <td>0.560748</td>\n",
              "      <td>219.163578</td>\n",
              "      <td>5.000000</td>\n",
              "      <td>1.022558</td>\n",
              "      <td>1.000000</td>\n",
              "    </tr>\n",
              "  </tbody>\n",
              "</table>\n",
              "</div>\n",
              "      <button class=\"colab-df-convert\" onclick=\"convertToInteractive('df-d5053dda-57c1-41d4-95ce-afc7a48489d2')\"\n",
              "              title=\"Convert this dataframe to an interactive table.\"\n",
              "              style=\"display:none;\">\n",
              "        \n",
              "  <svg xmlns=\"http://www.w3.org/2000/svg\" height=\"24px\"viewBox=\"0 0 24 24\"\n",
              "       width=\"24px\">\n",
              "    <path d=\"M0 0h24v24H0V0z\" fill=\"none\"/>\n",
              "    <path d=\"M18.56 5.44l.94 2.06.94-2.06 2.06-.94-2.06-.94-.94-2.06-.94 2.06-2.06.94zm-11 1L8.5 8.5l.94-2.06 2.06-.94-2.06-.94L8.5 2.5l-.94 2.06-2.06.94zm10 10l.94 2.06.94-2.06 2.06-.94-2.06-.94-.94-2.06-.94 2.06-2.06.94z\"/><path d=\"M17.41 7.96l-1.37-1.37c-.4-.4-.92-.59-1.43-.59-.52 0-1.04.2-1.43.59L10.3 9.45l-7.72 7.72c-.78.78-.78 2.05 0 2.83L4 21.41c.39.39.9.59 1.41.59.51 0 1.02-.2 1.41-.59l7.78-7.78 2.81-2.81c.8-.78.8-2.07 0-2.86zM5.41 20L4 18.59l7.72-7.72 1.47 1.35L5.41 20z\"/>\n",
              "  </svg>\n",
              "      </button>\n",
              "      \n",
              "  <style>\n",
              "    .colab-df-container {\n",
              "      display:flex;\n",
              "      flex-wrap:wrap;\n",
              "      gap: 12px;\n",
              "    }\n",
              "\n",
              "    .colab-df-convert {\n",
              "      background-color: #E8F0FE;\n",
              "      border: none;\n",
              "      border-radius: 50%;\n",
              "      cursor: pointer;\n",
              "      display: none;\n",
              "      fill: #1967D2;\n",
              "      height: 32px;\n",
              "      padding: 0 0 0 0;\n",
              "      width: 32px;\n",
              "    }\n",
              "\n",
              "    .colab-df-convert:hover {\n",
              "      background-color: #E2EBFA;\n",
              "      box-shadow: 0px 1px 2px rgba(60, 64, 67, 0.3), 0px 1px 3px 1px rgba(60, 64, 67, 0.15);\n",
              "      fill: #174EA6;\n",
              "    }\n",
              "\n",
              "    [theme=dark] .colab-df-convert {\n",
              "      background-color: #3B4455;\n",
              "      fill: #D2E3FC;\n",
              "    }\n",
              "\n",
              "    [theme=dark] .colab-df-convert:hover {\n",
              "      background-color: #434B5C;\n",
              "      box-shadow: 0px 1px 3px 1px rgba(0, 0, 0, 0.15);\n",
              "      filter: drop-shadow(0px 1px 2px rgba(0, 0, 0, 0.3));\n",
              "      fill: #FFFFFF;\n",
              "    }\n",
              "  </style>\n",
              "\n",
              "      <script>\n",
              "        const buttonEl =\n",
              "          document.querySelector('#df-d5053dda-57c1-41d4-95ce-afc7a48489d2 button.colab-df-convert');\n",
              "        buttonEl.style.display =\n",
              "          google.colab.kernel.accessAllowed ? 'block' : 'none';\n",
              "\n",
              "        async function convertToInteractive(key) {\n",
              "          const element = document.querySelector('#df-d5053dda-57c1-41d4-95ce-afc7a48489d2');\n",
              "          const dataTable =\n",
              "            await google.colab.kernel.invokeFunction('convertToInteractive',\n",
              "                                                     [key], {});\n",
              "          if (!dataTable) return;\n",
              "\n",
              "          const docLinkHtml = 'Like what you see? Visit the ' +\n",
              "            '<a target=\"_blank\" href=https://colab.research.google.com/notebooks/data_table.ipynb>data table notebook</a>'\n",
              "            + ' to learn more about interactive tables.';\n",
              "          element.innerHTML = '';\n",
              "          dataTable['output_type'] = 'display_data';\n",
              "          await google.colab.output.renderOutput(dataTable, element);\n",
              "          const docLink = document.createElement('div');\n",
              "          docLink.innerHTML = docLinkHtml;\n",
              "          element.appendChild(docLink);\n",
              "        }\n",
              "      </script>\n",
              "    </div>\n",
              "  </div>\n",
              "  "
            ],
            "text/plain": [
              "                id  song_duration_ms  ...  audio_valence  song_popularity\n",
              "count  40000.00000      35899.000000  ...   40000.000000     40000.000000\n",
              "mean   19999.50000     193165.847572  ...       0.580645         0.364400\n",
              "std    11547.14972      45822.127679  ...       0.237351         0.481268\n",
              "min        0.00000      25658.000000  ...       0.013398         0.000000\n",
              "25%     9999.75000     166254.500000  ...       0.398669         0.000000\n",
              "50%    19999.50000     186660.000000  ...       0.598827         0.000000\n",
              "75%    29999.25000     215116.000000  ...       0.759635         1.000000\n",
              "max    39999.00000     491671.000000  ...       1.022558         1.000000\n",
              "\n",
              "[8 rows x 15 columns]"
            ]
          },
          "metadata": {},
          "execution_count": 118
        }
      ]
    },
    {
      "cell_type": "code",
      "source": [
        "sns.countplot(train['song_popularity'])"
      ],
      "metadata": {
        "colab": {
          "base_uri": "https://localhost:8080/",
          "height": 352
        },
        "id": "ZWG0o6imUuhu",
        "outputId": "2af2bccb-5ea6-4860-bce6-3a69a9d29e69"
      },
      "execution_count": 119,
      "outputs": [
        {
          "output_type": "stream",
          "name": "stderr",
          "text": [
            "/usr/local/lib/python3.7/dist-packages/seaborn/_decorators.py:43: FutureWarning: Pass the following variable as a keyword arg: x. From version 0.12, the only valid positional argument will be `data`, and passing other arguments without an explicit keyword will result in an error or misinterpretation.\n",
            "  FutureWarning\n"
          ]
        },
        {
          "output_type": "execute_result",
          "data": {
            "text/plain": [
              "<matplotlib.axes._subplots.AxesSubplot at 0x7f08f3b5e5d0>"
            ]
          },
          "metadata": {},
          "execution_count": 119
        },
        {
          "output_type": "display_data",
          "data": {
            "image/png": "[encoded data removed]",
            "text/plain": [
              "<Figure size 432x288 with 1 Axes>"
            ]
          },
          "metadata": {
            "needs_background": "light"
          }
        }
      ]
    },
    {
      "cell_type": "code",
      "source": [
        "train.corr()"
      ],
      "metadata": {
        "colab": {
          "base_uri": "https://localhost:8080/",
          "height": 584
        },
        "id": "zq4CzoPMU0Os",
        "outputId": "1d88221a-e961-4377-b75d-f79a3fb0804a"
      },
      "execution_count": 120,
      "outputs": [
        {
          "output_type": "execute_result",
          "data": {
            "text/html": [
              "\n",
              "  <div id=\"df-24dc73e3-00d6-4e02-b223-f8fb2d07142c\">\n",
              "    <div class=\"colab-df-container\">\n",
              "      <div>\n",
              "<style scoped>\n",
              "    .dataframe tbody tr th:only-of-type {\n",
              "        vertical-align: middle;\n",
              "    }\n",
              "\n",
              "    .dataframe tbody tr th {\n",
              "        vertical-align: top;\n",
              "    }\n",
              "\n",
              "    .dataframe thead th {\n",
              "        text-align: right;\n",
              "    }\n",
              "</style>\n",
              "<table border=\"1\" class=\"dataframe\">\n",
              "  <thead>\n",
              "    <tr style=\"text-align: right;\">\n",
              "      <th></th>\n",
              "      <th>id</th>\n",
              "      <th>song_duration_ms</th>\n",
              "      <th>acousticness</th>\n",
              "      <th>danceability</th>\n",
              "      <th>energy</th>\n",
              "      <th>instrumentalness</th>\n",
              "      <th>key</th>\n",
              "      <th>liveness</th>\n",
              "      <th>loudness</th>\n",
              "      <th>audio_mode</th>\n",
              "      <th>speechiness</th>\n",
              "      <th>tempo</th>\n",
              "      <th>time_signature</th>\n",
              "      <th>audio_valence</th>\n",
              "      <th>song_popularity</th>\n",
              "    </tr>\n",
              "  </thead>\n",
              "  <tbody>\n",
              "    <tr>\n",
              "      <th>id</th>\n",
              "      <td>1.000000</td>\n",
              "      <td>-0.004428</td>\n",
              "      <td>-0.002733</td>\n",
              "      <td>-0.003237</td>\n",
              "      <td>0.000051</td>\n",
              "      <td>0.001087</td>\n",
              "      <td>-0.001492</td>\n",
              "      <td>-0.004756</td>\n",
              "      <td>0.005135</td>\n",
              "      <td>0.002538</td>\n",
              "      <td>0.002792</td>\n",
              "      <td>-0.001297</td>\n",
              "      <td>-0.002199</td>\n",
              "      <td>-0.001016</td>\n",
              "      <td>-0.003074</td>\n",
              "    </tr>\n",
              "    <tr>\n",
              "      <th>song_duration_ms</th>\n",
              "      <td>-0.004428</td>\n",
              "      <td>1.000000</td>\n",
              "      <td>-0.166443</td>\n",
              "      <td>-0.061929</td>\n",
              "      <td>0.148531</td>\n",
              "      <td>-0.024337</td>\n",
              "      <td>0.019354</td>\n",
              "      <td>0.033009</td>\n",
              "      <td>0.152954</td>\n",
              "      <td>-0.017211</td>\n",
              "      <td>-0.001236</td>\n",
              "      <td>0.085490</td>\n",
              "      <td>0.021609</td>\n",
              "      <td>-0.006948</td>\n",
              "      <td>-0.003960</td>\n",
              "    </tr>\n",
              "    <tr>\n",
              "      <th>acousticness</th>\n",
              "      <td>-0.002733</td>\n",
              "      <td>-0.166443</td>\n",
              "      <td>1.000000</td>\n",
              "      <td>-0.093737</td>\n",
              "      <td>-0.570177</td>\n",
              "      <td>0.072516</td>\n",
              "      <td>-0.186663</td>\n",
              "      <td>-0.124704</td>\n",
              "      <td>-0.532724</td>\n",
              "      <td>0.066973</td>\n",
              "      <td>-0.130244</td>\n",
              "      <td>-0.190964</td>\n",
              "      <td>-0.205307</td>\n",
              "      <td>-0.250310</td>\n",
              "      <td>0.025298</td>\n",
              "    </tr>\n",
              "    <tr>\n",
              "      <th>danceability</th>\n",
              "      <td>-0.003237</td>\n",
              "      <td>-0.061929</td>\n",
              "      <td>-0.093737</td>\n",
              "      <td>1.000000</td>\n",
              "      <td>0.099933</td>\n",
              "      <td>-0.146447</td>\n",
              "      <td>0.120514</td>\n",
              "      <td>0.045400</td>\n",
              "      <td>0.200148</td>\n",
              "      <td>0.030289</td>\n",
              "      <td>0.177937</td>\n",
              "      <td>-0.089887</td>\n",
              "      <td>0.016455</td>\n",
              "      <td>0.384496</td>\n",
              "      <td>0.017572</td>\n",
              "    </tr>\n",
              "    <tr>\n",
              "      <th>energy</th>\n",
              "      <td>0.000051</td>\n",
              "      <td>0.148531</td>\n",
              "      <td>-0.570177</td>\n",
              "      <td>0.099933</td>\n",
              "      <td>1.000000</td>\n",
              "      <td>-0.120338</td>\n",
              "      <td>0.210176</td>\n",
              "      <td>0.154907</td>\n",
              "      <td>0.643931</td>\n",
              "      <td>-0.094916</td>\n",
              "      <td>0.120053</td>\n",
              "      <td>0.225465</td>\n",
              "      <td>0.238722</td>\n",
              "      <td>0.324626</td>\n",
              "      <td>-0.054640</td>\n",
              "    </tr>\n",
              "    <tr>\n",
              "      <th>instrumentalness</th>\n",
              "      <td>0.001087</td>\n",
              "      <td>-0.024337</td>\n",
              "      <td>0.072516</td>\n",
              "      <td>-0.146447</td>\n",
              "      <td>-0.120338</td>\n",
              "      <td>1.000000</td>\n",
              "      <td>-0.054726</td>\n",
              "      <td>-0.033445</td>\n",
              "      <td>-0.181889</td>\n",
              "      <td>-0.003617</td>\n",
              "      <td>-0.053209</td>\n",
              "      <td>-0.010350</td>\n",
              "      <td>-0.047397</td>\n",
              "      <td>-0.157760</td>\n",
              "      <td>-0.009511</td>\n",
              "    </tr>\n",
              "    <tr>\n",
              "      <th>key</th>\n",
              "      <td>-0.001492</td>\n",
              "      <td>0.019354</td>\n",
              "      <td>-0.186663</td>\n",
              "      <td>0.120514</td>\n",
              "      <td>0.210176</td>\n",
              "      <td>-0.054726</td>\n",
              "      <td>1.000000</td>\n",
              "      <td>0.077046</td>\n",
              "      <td>0.201509</td>\n",
              "      <td>-0.036252</td>\n",
              "      <td>0.102993</td>\n",
              "      <td>0.053206</td>\n",
              "      <td>0.094144</td>\n",
              "      <td>0.132194</td>\n",
              "      <td>0.017808</td>\n",
              "    </tr>\n",
              "    <tr>\n",
              "      <th>liveness</th>\n",
              "      <td>-0.004756</td>\n",
              "      <td>0.033009</td>\n",
              "      <td>-0.124704</td>\n",
              "      <td>0.045400</td>\n",
              "      <td>0.154907</td>\n",
              "      <td>-0.033445</td>\n",
              "      <td>0.077046</td>\n",
              "      <td>1.000000</td>\n",
              "      <td>0.146551</td>\n",
              "      <td>-0.013281</td>\n",
              "      <td>0.076612</td>\n",
              "      <td>0.064425</td>\n",
              "      <td>0.037766</td>\n",
              "      <td>0.084770</td>\n",
              "      <td>0.016571</td>\n",
              "    </tr>\n",
              "    <tr>\n",
              "      <th>loudness</th>\n",
              "      <td>0.005135</td>\n",
              "      <td>0.152954</td>\n",
              "      <td>-0.532724</td>\n",
              "      <td>0.200148</td>\n",
              "      <td>0.643931</td>\n",
              "      <td>-0.181889</td>\n",
              "      <td>0.201509</td>\n",
              "      <td>0.146551</td>\n",
              "      <td>1.000000</td>\n",
              "      <td>-0.076893</td>\n",
              "      <td>0.157550</td>\n",
              "      <td>0.173979</td>\n",
              "      <td>0.245403</td>\n",
              "      <td>0.356330</td>\n",
              "      <td>-0.040662</td>\n",
              "    </tr>\n",
              "    <tr>\n",
              "      <th>audio_mode</th>\n",
              "      <td>0.002538</td>\n",
              "      <td>-0.017211</td>\n",
              "      <td>0.066973</td>\n",
              "      <td>0.030289</td>\n",
              "      <td>-0.094916</td>\n",
              "      <td>-0.003617</td>\n",
              "      <td>-0.036252</td>\n",
              "      <td>-0.013281</td>\n",
              "      <td>-0.076893</td>\n",
              "      <td>1.000000</td>\n",
              "      <td>0.019790</td>\n",
              "      <td>-0.023202</td>\n",
              "      <td>-0.043714</td>\n",
              "      <td>-0.015683</td>\n",
              "      <td>-0.001455</td>\n",
              "    </tr>\n",
              "    <tr>\n",
              "      <th>speechiness</th>\n",
              "      <td>0.002792</td>\n",
              "      <td>-0.001236</td>\n",
              "      <td>-0.130244</td>\n",
              "      <td>0.177937</td>\n",
              "      <td>0.120053</td>\n",
              "      <td>-0.053209</td>\n",
              "      <td>0.102993</td>\n",
              "      <td>0.076612</td>\n",
              "      <td>0.157550</td>\n",
              "      <td>0.019790</td>\n",
              "      <td>1.000000</td>\n",
              "      <td>0.036192</td>\n",
              "      <td>0.035013</td>\n",
              "      <td>0.112558</td>\n",
              "      <td>0.024230</td>\n",
              "    </tr>\n",
              "    <tr>\n",
              "      <th>tempo</th>\n",
              "      <td>-0.001297</td>\n",
              "      <td>0.085490</td>\n",
              "      <td>-0.190964</td>\n",
              "      <td>-0.089887</td>\n",
              "      <td>0.225465</td>\n",
              "      <td>-0.010350</td>\n",
              "      <td>0.053206</td>\n",
              "      <td>0.064425</td>\n",
              "      <td>0.173979</td>\n",
              "      <td>-0.023202</td>\n",
              "      <td>0.036192</td>\n",
              "      <td>1.000000</td>\n",
              "      <td>0.084836</td>\n",
              "      <td>0.025843</td>\n",
              "      <td>-0.011800</td>\n",
              "    </tr>\n",
              "    <tr>\n",
              "      <th>time_signature</th>\n",
              "      <td>-0.002199</td>\n",
              "      <td>0.021609</td>\n",
              "      <td>-0.205307</td>\n",
              "      <td>0.016455</td>\n",
              "      <td>0.238722</td>\n",
              "      <td>-0.047397</td>\n",
              "      <td>0.094144</td>\n",
              "      <td>0.037766</td>\n",
              "      <td>0.245403</td>\n",
              "      <td>-0.043714</td>\n",
              "      <td>0.035013</td>\n",
              "      <td>0.084836</td>\n",
              "      <td>1.000000</td>\n",
              "      <td>0.164075</td>\n",
              "      <td>-0.014701</td>\n",
              "    </tr>\n",
              "    <tr>\n",
              "      <th>audio_valence</th>\n",
              "      <td>-0.001016</td>\n",
              "      <td>-0.006948</td>\n",
              "      <td>-0.250310</td>\n",
              "      <td>0.384496</td>\n",
              "      <td>0.324626</td>\n",
              "      <td>-0.157760</td>\n",
              "      <td>0.132194</td>\n",
              "      <td>0.084770</td>\n",
              "      <td>0.356330</td>\n",
              "      <td>-0.015683</td>\n",
              "      <td>0.112558</td>\n",
              "      <td>0.025843</td>\n",
              "      <td>0.164075</td>\n",
              "      <td>1.000000</td>\n",
              "      <td>-0.045530</td>\n",
              "    </tr>\n",
              "    <tr>\n",
              "      <th>song_popularity</th>\n",
              "      <td>-0.003074</td>\n",
              "      <td>-0.003960</td>\n",
              "      <td>0.025298</td>\n",
              "      <td>0.017572</td>\n",
              "      <td>-0.054640</td>\n",
              "      <td>-0.009511</td>\n",
              "      <td>0.017808</td>\n",
              "      <td>0.016571</td>\n",
              "      <td>-0.040662</td>\n",
              "      <td>-0.001455</td>\n",
              "      <td>0.024230</td>\n",
              "      <td>-0.011800</td>\n",
              "      <td>-0.014701</td>\n",
              "      <td>-0.045530</td>\n",
              "      <td>1.000000</td>\n",
              "    </tr>\n",
              "  </tbody>\n",
              "</table>\n",
              "</div>\n",
              "      <button class=\"colab-df-convert\" onclick=\"convertToInteractive('df-24dc73e3-00d6-4e02-b223-f8fb2d07142c')\"\n",
              "              title=\"Convert this dataframe to an interactive table.\"\n",
              "              style=\"display:none;\">\n",
              "        \n",
              "  <svg xmlns=\"http://www.w3.org/2000/svg\" height=\"24px\"viewBox=\"0 0 24 24\"\n",
              "       width=\"24px\">\n",
              "    <path d=\"M0 0h24v24H0V0z\" fill=\"none\"/>\n",
              "    <path d=\"M18.56 5.44l.94 2.06.94-2.06 2.06-.94-2.06-.94-.94-2.06-.94 2.06-2.06.94zm-11 1L8.5 8.5l.94-2.06 2.06-.94-2.06-.94L8.5 2.5l-.94 2.06-2.06.94zm10 10l.94 2.06.94-2.06 2.06-.94-2.06-.94-.94-2.06-.94 2.06-2.06.94z\"/><path d=\"M17.41 7.96l-1.37-1.37c-.4-.4-.92-.59-1.43-.59-.52 0-1.04.2-1.43.59L10.3 9.45l-7.72 7.72c-.78.78-.78 2.05 0 2.83L4 21.41c.39.39.9.59 1.41.59.51 0 1.02-.2 1.41-.59l7.78-7.78 2.81-2.81c.8-.78.8-2.07 0-2.86zM5.41 20L4 18.59l7.72-7.72 1.47 1.35L5.41 20z\"/>\n",
              "  </svg>\n",
              "      </button>\n",
              "      \n",
              "  <style>\n",
              "    .colab-df-container {\n",
              "      display:flex;\n",
              "      flex-wrap:wrap;\n",
              "      gap: 12px;\n",
              "    }\n",
              "\n",
              "    .colab-df-convert {\n",
              "      background-color: #E8F0FE;\n",
              "      border: none;\n",
              "      border-radius: 50%;\n",
              "      cursor: pointer;\n",
              "      display: none;\n",
              "      fill: #1967D2;\n",
              "      height: 32px;\n",
              "      padding: 0 0 0 0;\n",
              "      width: 32px;\n",
              "    }\n",
              "\n",
              "    .colab-df-convert:hover {\n",
              "      background-color: #E2EBFA;\n",
              "      box-shadow: 0px 1px 2px rgba(60, 64, 67, 0.3), 0px 1px 3px 1px rgba(60, 64, 67, 0.15);\n",
              "      fill: #174EA6;\n",
              "    }\n",
              "\n",
              "    [theme=dark] .colab-df-convert {\n",
              "      background-color: #3B4455;\n",
              "      fill: #D2E3FC;\n",
              "    }\n",
              "\n",
              "    [theme=dark] .colab-df-convert:hover {\n",
              "      background-color: #434B5C;\n",
              "      box-shadow: 0px 1px 3px 1px rgba(0, 0, 0, 0.15);\n",
              "      filter: drop-shadow(0px 1px 2px rgba(0, 0, 0, 0.3));\n",
              "      fill: #FFFFFF;\n",
              "    }\n",
              "  </style>\n",
              "\n",
              "      <script>\n",
              "        const buttonEl =\n",
              "          document.querySelector('#df-24dc73e3-00d6-4e02-b223-f8fb2d07142c button.colab-df-convert');\n",
              "        buttonEl.style.display =\n",
              "          google.colab.kernel.accessAllowed ? 'block' : 'none';\n",
              "\n",
              "        async function convertToInteractive(key) {\n",
              "          const element = document.querySelector('#df-24dc73e3-00d6-4e02-b223-f8fb2d07142c');\n",
              "          const dataTable =\n",
              "            await google.colab.kernel.invokeFunction('convertToInteractive',\n",
              "                                                     [key], {});\n",
              "          if (!dataTable) return;\n",
              "\n",
              "          const docLinkHtml = 'Like what you see? Visit the ' +\n",
              "            '<a target=\"_blank\" href=https://colab.research.google.com/notebooks/data_table.ipynb>data table notebook</a>'\n",
              "            + ' to learn more about interactive tables.';\n",
              "          element.innerHTML = '';\n",
              "          dataTable['output_type'] = 'display_data';\n",
              "          await google.colab.output.renderOutput(dataTable, element);\n",
              "          const docLink = document.createElement('div');\n",
              "          docLink.innerHTML = docLinkHtml;\n",
              "          element.appendChild(docLink);\n",
              "        }\n",
              "      </script>\n",
              "    </div>\n",
              "  </div>\n",
              "  "
            ],
            "text/plain": [
              "                        id  song_duration_ms  ...  audio_valence  song_popularity\n",
              "id                1.000000         -0.004428  ...      -0.001016        -0.003074\n",
              "song_duration_ms -0.004428          1.000000  ...      -0.006948        -0.003960\n",
              "acousticness     -0.002733         -0.166443  ...      -0.250310         0.025298\n",
              "danceability     -0.003237         -0.061929  ...       0.384496         0.017572\n",
              "energy            0.000051          0.148531  ...       0.324626        -0.054640\n",
              "instrumentalness  0.001087         -0.024337  ...      -0.157760        -0.009511\n",
              "key              -0.001492          0.019354  ...       0.132194         0.017808\n",
              "liveness         -0.004756          0.033009  ...       0.084770         0.016571\n",
              "loudness          0.005135          0.152954  ...       0.356330        -0.040662\n",
              "audio_mode        0.002538         -0.017211  ...      -0.015683        -0.001455\n",
              "speechiness       0.002792         -0.001236  ...       0.112558         0.024230\n",
              "tempo            -0.001297          0.085490  ...       0.025843        -0.011800\n",
              "time_signature   -0.002199          0.021609  ...       0.164075        -0.014701\n",
              "audio_valence    -0.001016         -0.006948  ...       1.000000        -0.045530\n",
              "song_popularity  -0.003074         -0.003960  ...      -0.045530         1.000000\n",
              "\n",
              "[15 rows x 15 columns]"
            ]
          },
          "metadata": {},
          "execution_count": 120
        }
      ]
    },
    {
      "cell_type": "code",
      "source": [
        "train.isnull().sum()"
      ],
      "metadata": {
        "colab": {
          "base_uri": "https://localhost:8080/"
        },
        "id": "7SDRyrdDVnVU",
        "outputId": "e3613baf-00df-4da8-ee56-4c392ba4fcba"
      },
      "execution_count": 121,
      "outputs": [
        {
          "output_type": "execute_result",
          "data": {
            "text/plain": [
              "id                     0\n",
              "song_duration_ms    4101\n",
              "acousticness        3992\n",
              "danceability        4026\n",
              "energy              3975\n",
              "instrumentalness    3985\n",
              "key                 4065\n",
              "liveness            4086\n",
              "loudness            3957\n",
              "audio_mode             0\n",
              "speechiness            0\n",
              "tempo                  0\n",
              "time_signature         0\n",
              "audio_valence          0\n",
              "song_popularity        0\n",
              "dtype: int64"
            ]
          },
          "metadata": {},
          "execution_count": 121
        }
      ]
    },
    {
      "cell_type": "code",
      "source": [
        "plt.figure(figsize=(15,10))\n",
        "sns.heatmap(train.corr(),annot=True,cmap='viridis')\n",
        "plt.ylim(15,0)"
      ],
      "metadata": {
        "colab": {
          "base_uri": "https://localhost:8080/",
          "height": 694
        },
        "id": "98YdiFd4YNVJ",
        "outputId": "65828a96-9cc8-4479-8e43-ce83813f88ee"
      },
      "execution_count": 122,
      "outputs": [
        {
          "output_type": "execute_result",
          "data": {
            "text/plain": [
              "(15.0, 0.0)"
            ]
          },
          "metadata": {},
          "execution_count": 122
        },
        {
          "output_type": "display_data",
          "data": {
            "image/png": "[encoded data removed]",
            "text/plain": [
              "<Figure size 1080x720 with 2 Axes>"
            ]
          },
          "metadata": {
            "needs_background": "light"
          }
        }
      ]
    },
    {
      "cell_type": "code",
      "source": [
        "100*train.isnull().sum()/len(train)"
      ],
      "metadata": {
        "colab": {
          "base_uri": "https://localhost:8080/"
        },
        "id": "lu2J6FakXMnN",
        "outputId": "9a633fcd-0507-4154-9b8f-7f6135cf0922"
      },
      "execution_count": 123,
      "outputs": [
        {
          "output_type": "execute_result",
          "data": {
            "text/plain": [
              "id                   0.0000\n",
              "song_duration_ms    10.2525\n",
              "acousticness         9.9800\n",
              "danceability        10.0650\n",
              "energy               9.9375\n",
              "instrumentalness     9.9625\n",
              "key                 10.1625\n",
              "liveness            10.2150\n",
              "loudness             9.8925\n",
              "audio_mode           0.0000\n",
              "speechiness          0.0000\n",
              "tempo                0.0000\n",
              "time_signature       0.0000\n",
              "audio_valence        0.0000\n",
              "song_popularity      0.0000\n",
              "dtype: float64"
            ]
          },
          "metadata": {},
          "execution_count": 123
        }
      ]
    },
    {
      "cell_type": "code",
      "source": [
        ""
      ],
      "metadata": {
        "id": "sFVovFzJ8gPt"
      },
      "execution_count": 123,
      "outputs": []
    },
    {
      "cell_type": "code",
      "source": [
        "col=list(train.columns)\n",
        "print(col)"
      ],
      "metadata": {
        "colab": {
          "base_uri": "https://localhost:8080/"
        },
        "id": "p4Ynj6zp8FJu",
        "outputId": "13c375d3-ee10-4b92-a920-557a83cfd426"
      },
      "execution_count": 124,
      "outputs": [
        {
          "output_type": "stream",
          "name": "stdout",
          "text": [
            "['id', 'song_duration_ms', 'acousticness', 'danceability', 'energy', 'instrumentalness', 'key', 'liveness', 'loudness', 'audio_mode', 'speechiness', 'tempo', 'time_signature', 'audio_valence', 'song_popularity']\n"
          ]
        }
      ]
    },
    {
      "cell_type": "code",
      "source": [
        "from sklearn.impute import SimpleImputer\n",
        "my_imputer = SimpleImputer()"
      ],
      "metadata": {
        "id": "vm4QCyVPXghO"
      },
      "execution_count": 125,
      "outputs": []
    },
    {
      "cell_type": "code",
      "source": [
        "train=pd.DataFrame(my_imputer.fit_transform(train))\n",
        "train.columns=col"
      ],
      "metadata": {
        "id": "tlGLf9xa3WfM"
      },
      "execution_count": 126,
      "outputs": []
    },
    {
      "cell_type": "code",
      "source": [
        "plt.figure(figsize=(15,10))\n",
        "sns.heatmap(train.corr(),annot=True,cmap='viridis')\n",
        "plt.ylim(15,0)"
      ],
      "metadata": {
        "colab": {
          "base_uri": "https://localhost:8080/",
          "height": 694
        },
        "id": "htmGLa9f5IpU",
        "outputId": "b0938d53-a1b4-4303-a166-3cdb612757c8"
      },
      "execution_count": 127,
      "outputs": [
        {
          "output_type": "execute_result",
          "data": {
            "text/plain": [
              "(15.0, 0.0)"
            ]
          },
          "metadata": {},
          "execution_count": 127
        },
        {
          "output_type": "display_data",
          "data": {
            "image/png": "[encoded data removed]",
            "text/plain": [
              "<Figure size 1080x720 with 2 Axes>"
            ]
          },
          "metadata": {
            "needs_background": "light"
          }
        }
      ]
    },
    {
      "cell_type": "code",
      "source": [
        "train.info()"
      ],
      "metadata": {
        "colab": {
          "base_uri": "https://localhost:8080/"
        },
        "id": "PEtB4sqP5Lz-",
        "outputId": "7d7421f9-24e4-4406-cbc4-668caea59f4b"
      },
      "execution_count": 128,
      "outputs": [
        {
          "output_type": "stream",
          "name": "stdout",
          "text": [
            "<class 'pandas.core.frame.DataFrame'>\n",
            "RangeIndex: 40000 entries, 0 to 39999\n",
            "Data columns (total 15 columns):\n",
            " #   Column            Non-Null Count  Dtype  \n",
            "---  ------            --------------  -----  \n",
            " 0   id                40000 non-null  float64\n",
            " 1   song_duration_ms  40000 non-null  float64\n",
            " 2   acousticness      40000 non-null  float64\n",
            " 3   danceability      40000 non-null  float64\n",
            " 4   energy            40000 non-null  float64\n",
            " 5   instrumentalness  40000 non-null  float64\n",
            " 6   key               40000 non-null  float64\n",
            " 7   liveness          40000 non-null  float64\n",
            " 8   loudness          40000 non-null  float64\n",
            " 9   audio_mode        40000 non-null  float64\n",
            " 10  speechiness       40000 non-null  float64\n",
            " 11  tempo             40000 non-null  float64\n",
            " 12  time_signature    40000 non-null  float64\n",
            " 13  audio_valence     40000 non-null  float64\n",
            " 14  song_popularity   40000 non-null  float64\n",
            "dtypes: float64(15)\n",
            "memory usage: 4.6 MB\n"
          ]
        }
      ]
    },
    {
      "cell_type": "code",
      "source": [
        "train['song_popularity']"
      ],
      "metadata": {
        "colab": {
          "base_uri": "https://localhost:8080/"
        },
        "id": "8qKq3xw1Cti6",
        "outputId": "7e4d3d44-a354-4714-d41d-91a96cffd1b2"
      },
      "execution_count": 129,
      "outputs": [
        {
          "output_type": "execute_result",
          "data": {
            "text/plain": [
              "0        0.0\n",
              "1        1.0\n",
              "2        0.0\n",
              "3        0.0\n",
              "4        0.0\n",
              "        ... \n",
              "39995    0.0\n",
              "39996    0.0\n",
              "39997    1.0\n",
              "39998    0.0\n",
              "39999    0.0\n",
              "Name: song_popularity, Length: 40000, dtype: float64"
            ]
          },
          "metadata": {},
          "execution_count": 129
        }
      ]
    },
    {
      "cell_type": "code",
      "source": [
        "from sklearn.model_selection import train_test_split"
      ],
      "metadata": {
        "id": "UhEVqgjHB0HU"
      },
      "execution_count": 130,
      "outputs": []
    },
    {
      "cell_type": "code",
      "source": [
        "X_train, X_test, y_train, y_test = train_test_split(train.drop('song_popularity',axis=1), \n",
        "                                                    train['song_popularity'], test_size=0.30, \n",
        "                                                    random_state=101)"
      ],
      "metadata": {
        "id": "9bKYwhRr5-0y"
      },
      "execution_count": 131,
      "outputs": []
    },
    {
      "cell_type": "code",
      "source": [
        "from sklearn.preprocessing import MinMaxScaler"
      ],
      "metadata": {
        "id": "5yiL6l8Y2Zqv"
      },
      "execution_count": 132,
      "outputs": []
    },
    {
      "cell_type": "code",
      "source": [
        "scaler = MinMaxScaler()"
      ],
      "metadata": {
        "id": "VNlm_jOn2bw3"
      },
      "execution_count": 133,
      "outputs": []
    },
    {
      "cell_type": "code",
      "source": [
        "scaler.fit(X_train)"
      ],
      "metadata": {
        "colab": {
          "base_uri": "https://localhost:8080/"
        },
        "id": "dBZeOeD12feF",
        "outputId": "ab9346a3-9052-4639-ed36-441a755d577c"
      },
      "execution_count": 134,
      "outputs": [
        {
          "output_type": "execute_result",
          "data": {
            "text/plain": [
              "MinMaxScaler()"
            ]
          },
          "metadata": {},
          "execution_count": 134
        }
      ]
    },
    {
      "cell_type": "code",
      "source": [
        "X_train = scaler.transform(X_train)\n",
        "X_test = scaler.transform(X_test)"
      ],
      "metadata": {
        "id": "U0-m3rIP7bWv"
      },
      "execution_count": 135,
      "outputs": []
    },
    {
      "cell_type": "code",
      "source": [
        "from sklearn.linear_model import LogisticRegression"
      ],
      "metadata": {
        "id": "Qj9bBR6kB7U5"
      },
      "execution_count": 136,
      "outputs": []
    },
    {
      "cell_type": "code",
      "source": [
        "logmodel = LogisticRegression()\n",
        "logmodel.fit(X_train,y_train)"
      ],
      "metadata": {
        "colab": {
          "base_uri": "https://localhost:8080/"
        },
        "id": "nhPqzJL2B_oE",
        "outputId": "6d68eab9-2f27-4dc3-9ba4-76431b211de7"
      },
      "execution_count": 137,
      "outputs": [
        {
          "output_type": "execute_result",
          "data": {
            "text/plain": [
              "LogisticRegression()"
            ]
          },
          "metadata": {},
          "execution_count": 137
        }
      ]
    },
    {
      "cell_type": "code",
      "source": [
        "predictions = logmodel.predict(X_test)"
      ],
      "metadata": {
        "id": "VmFTTinSCCh5"
      },
      "execution_count": 138,
      "outputs": []
    },
    {
      "cell_type": "code",
      "source": [
        "from sklearn.metrics import classification_report"
      ],
      "metadata": {
        "id": "C2HylddgCJ6b"
      },
      "execution_count": 139,
      "outputs": []
    },
    {
      "cell_type": "code",
      "source": [
        "print(classification_report(y_test,predictions))"
      ],
      "metadata": {
        "colab": {
          "base_uri": "https://localhost:8080/"
        },
        "id": "Ayt35-DgCQ7T",
        "outputId": "3c9860d6-6bae-4747-af82-1dd3a708645c"
      },
      "execution_count": 140,
      "outputs": [
        {
          "output_type": "stream",
          "name": "stdout",
          "text": [
            "              precision    recall  f1-score   support\n",
            "\n",
            "         0.0       0.64      1.00      0.78      7718\n",
            "         1.0       0.39      0.00      0.01      4282\n",
            "\n",
            "    accuracy                           0.64     12000\n",
            "   macro avg       0.52      0.50      0.39     12000\n",
            "weighted avg       0.55      0.64      0.51     12000\n",
            "\n"
          ]
        }
      ]
    },
    {
      "cell_type": "code",
      "source": [
        "print(confusion_matrix(y_test,predictions))"
      ],
      "metadata": {
        "id": "G1FiqCUtCTJb",
        "colab": {
          "base_uri": "https://localhost:8080/"
        },
        "outputId": "b4f153ae-1819-42ed-88fa-2a3a05d634c8"
      },
      "execution_count": 141,
      "outputs": [
        {
          "output_type": "stream",
          "name": "stdout",
          "text": [
            "[[7695   23]\n",
            " [4267   15]]\n"
          ]
        }
      ]
    }
  ]
}